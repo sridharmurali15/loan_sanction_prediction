{
 "cells": [
  {
   "cell_type": "markdown",
   "metadata": {
    "colab_type": "text",
    "id": "lP6JLo1tGNBg"
   },
   "source": [
    "# Artificial Neural Network"
   ]
  },
  {
   "cell_type": "markdown",
   "metadata": {
    "colab_type": "text",
    "id": "gWZyYmS_UE_L"
   },
   "source": [
    "### Importing the libraries"
   ]
  },
  {
   "cell_type": "code",
   "execution_count": 2,
   "metadata": {
    "colab": {},
    "colab_type": "code",
    "id": "MxkJoQBkUIHC"
   },
   "outputs": [],
   "source": [
    "import numpy as np\n",
    "import pandas as pd\n",
    "import tensorflow as tf"
   ]
  },
  {
   "cell_type": "code",
   "execution_count": 3,
   "metadata": {
    "colab": {
     "base_uri": "https://localhost:8080/",
     "height": 34
    },
    "colab_type": "code",
    "id": "ZaTwK7ojXr2F",
    "outputId": "0b27a96d-d11a-43e8-ab4b-87c1f01896fe"
   },
   "outputs": [
    {
     "data": {
      "text/plain": [
       "'2.2.0'"
      ]
     },
     "execution_count": 3,
     "metadata": {},
     "output_type": "execute_result"
    }
   ],
   "source": [
    "tf.__version__"
   ]
  },
  {
   "cell_type": "markdown",
   "metadata": {
    "colab_type": "text",
    "id": "1E0Q3aoKUCRX"
   },
   "source": [
    "## Part 1 - Data Preprocessing"
   ]
  },
  {
   "cell_type": "markdown",
   "metadata": {
    "colab_type": "text",
    "id": "cKWAkFVGUU0Z"
   },
   "source": [
    "### Importing the dataset"
   ]
  },
  {
   "cell_type": "code",
   "execution_count": 39,
   "metadata": {
    "colab": {},
    "colab_type": "code",
    "id": "MXUkhkMfU4wq"
   },
   "outputs": [],
   "source": [
    "dataset = pd.read_csv('Churn_Modelling.csv')\n",
    "X = dataset.iloc[:, 3:-1].values\n",
    "X = np.delete(X, 1, axis=1)\n",
    "y = dataset.iloc[:, -1].values"
   ]
  },
  {
   "cell_type": "code",
   "execution_count": 33,
   "metadata": {
    "colab": {
     "base_uri": "https://localhost:8080/",
     "height": 137
    },
    "colab_type": "code",
    "id": "VYP9cQTWbzuI",
    "outputId": "797e7a64-9bac-436a-8c9c-94437e5e7587"
   },
   "outputs": [
    {
     "data": {
      "text/plain": [
       "Index(['RowNumber', 'CustomerId', 'Surname', 'CreditScore', 'Geography',\n",
       "       'Gender', 'Age', 'Tenure', 'Balance', 'NumOfProducts', 'HasCrCard',\n",
       "       'IsActiveMember', 'EstimatedSalary', 'Exited'],\n",
       "      dtype='object')"
      ]
     },
     "execution_count": 33,
     "metadata": {},
     "output_type": "execute_result"
    }
   ],
   "source": [
    "dataset.columns"
   ]
  },
  {
   "cell_type": "code",
   "execution_count": 24,
   "metadata": {
    "colab": {
     "base_uri": "https://localhost:8080/",
     "height": 34
    },
    "colab_type": "code",
    "id": "38vKGE6Nb2RR",
    "outputId": "a815e42a-e0dd-4cb5-ab97-b17ead98fbc3"
   },
   "outputs": [
    {
     "name": "stdout",
     "output_type": "stream",
     "text": [
      "[1 0 1 ... 1 1 0]\n"
     ]
    }
   ],
   "source": [
    "print(y)"
   ]
  },
  {
   "cell_type": "markdown",
   "metadata": {
    "colab_type": "text",
    "id": "N6bQ0UgSU-NJ"
   },
   "source": [
    "### Encoding categorical data"
   ]
  },
  {
   "cell_type": "markdown",
   "metadata": {
    "colab_type": "text",
    "id": "le5MJreAbW52"
   },
   "source": [
    "Label Encoding the \"Gender\" column"
   ]
  },
  {
   "cell_type": "code",
   "execution_count": 40,
   "metadata": {
    "colab": {},
    "colab_type": "code",
    "id": "PxVKWXxLbczC"
   },
   "outputs": [],
   "source": [
    "from sklearn.preprocessing import LabelEncoder\n",
    "le = LabelEncoder()\n",
    "X[:, 1] = le.fit_transform(X[:, 1])"
   ]
  },
  {
   "cell_type": "code",
   "execution_count": 41,
   "metadata": {
    "colab": {
     "base_uri": "https://localhost:8080/",
     "height": 137
    },
    "colab_type": "code",
    "id": "-M1KboxFb6OO",
    "outputId": "e2b8c7e8-0cbc-4cdf-f4eb-7f0853a00b88"
   },
   "outputs": [
    {
     "name": "stdout",
     "output_type": "stream",
     "text": [
      "[619 0 42 2 0.0 1 1 1 101348.88]\n"
     ]
    }
   ],
   "source": [
    "print(X[0])"
   ]
  },
  {
   "cell_type": "markdown",
   "metadata": {
    "colab_type": "text",
    "id": "vHol938cW8zd"
   },
   "source": [
    "### Splitting the dataset into the Training set and Test set"
   ]
  },
  {
   "cell_type": "code",
   "execution_count": 61,
   "metadata": {
    "colab": {},
    "colab_type": "code",
    "id": "Z-TDt0Y_XEfc"
   },
   "outputs": [],
   "source": [
    "from sklearn.model_selection import train_test_split\n",
    "X_train, X_test, y_train, y_test = train_test_split(X, y, test_size = 0.2, random_state = 0)"
   ]
  },
  {
   "cell_type": "markdown",
   "metadata": {},
   "source": [
    "### Sampling Dataset"
   ]
  },
  {
   "cell_type": "code",
   "execution_count": 82,
   "metadata": {},
   "outputs": [],
   "source": [
    "from imblearn.over_sampling import RandomOverSampler\n",
    "ros = RandomOverSampler()\n",
    "X_train, y_train = ros.fit_sample(X_train,y_train)"
   ]
  },
  {
   "cell_type": "markdown",
   "metadata": {
    "colab_type": "text",
    "id": "RE_FcHyfV3TQ"
   },
   "source": [
    "### Feature Scaling"
   ]
  },
  {
   "cell_type": "code",
   "execution_count": 83,
   "metadata": {
    "colab": {},
    "colab_type": "code",
    "id": "ViCrE00rV8Sk"
   },
   "outputs": [],
   "source": [
    "from sklearn.preprocessing import StandardScaler\n",
    "sc = StandardScaler()\n",
    "X_train = sc.fit_transform(X_train)\n",
    "X_test = sc.transform(X_test)"
   ]
  },
  {
   "cell_type": "markdown",
   "metadata": {
    "colab_type": "text",
    "id": "-zfEzkRVXIwF"
   },
   "source": [
    "## Part 2 - Building the ANN"
   ]
  },
  {
   "cell_type": "markdown",
   "metadata": {
    "colab_type": "text",
    "id": "KvdeScabXtlB"
   },
   "source": [
    "### Initializing the ANN"
   ]
  },
  {
   "cell_type": "code",
   "execution_count": 85,
   "metadata": {
    "colab": {},
    "colab_type": "code",
    "id": "3dtrScHxXQox"
   },
   "outputs": [],
   "source": [
    "ann = tf.keras.models.Sequential()"
   ]
  },
  {
   "cell_type": "markdown",
   "metadata": {
    "colab_type": "text",
    "id": "rP6urV6SX7kS"
   },
   "source": [
    "### Adding the input layer and the first hidden layer"
   ]
  },
  {
   "cell_type": "code",
   "execution_count": 86,
   "metadata": {
    "colab": {},
    "colab_type": "code",
    "id": "bppGycBXYCQr"
   },
   "outputs": [],
   "source": [
    "ann.add(tf.keras.layers.Dense(units=6, activation='relu'))"
   ]
  },
  {
   "cell_type": "markdown",
   "metadata": {
    "colab_type": "text",
    "id": "BELWAc_8YJze"
   },
   "source": [
    "### Adding the second hidden layer"
   ]
  },
  {
   "cell_type": "code",
   "execution_count": 87,
   "metadata": {
    "colab": {},
    "colab_type": "code",
    "id": "JneR0u0sYRTd"
   },
   "outputs": [],
   "source": [
    "ann.add(tf.keras.layers.Dense(units=6, activation='relu'))"
   ]
  },
  {
   "cell_type": "markdown",
   "metadata": {
    "colab_type": "text",
    "id": "OyNEe6RXYcU4"
   },
   "source": [
    "### Adding the output layer"
   ]
  },
  {
   "cell_type": "code",
   "execution_count": 88,
   "metadata": {
    "colab": {},
    "colab_type": "code",
    "id": "Cn3x41RBYfvY"
   },
   "outputs": [],
   "source": [
    "ann.add(tf.keras.layers.Dense(units=1, activation='sigmoid'))"
   ]
  },
  {
   "cell_type": "markdown",
   "metadata": {
    "colab_type": "text",
    "id": "JT4u2S1_Y4WG"
   },
   "source": [
    "## Part 3 - Training the ANN"
   ]
  },
  {
   "cell_type": "markdown",
   "metadata": {
    "colab_type": "text",
    "id": "8GWlJChhY_ZI"
   },
   "source": [
    "### Compiling the ANN"
   ]
  },
  {
   "cell_type": "code",
   "execution_count": 89,
   "metadata": {
    "colab": {},
    "colab_type": "code",
    "id": "fG3RrwDXZEaS"
   },
   "outputs": [],
   "source": [
    "ann.compile(optimizer = 'adam', loss = 'binary_crossentropy', metrics = ['accuracy'])"
   ]
  },
  {
   "cell_type": "markdown",
   "metadata": {
    "colab_type": "text",
    "id": "0QR_G5u7ZLSM"
   },
   "source": [
    "### Training the ANN on the Training set"
   ]
  },
  {
   "cell_type": "code",
   "execution_count": 90,
   "metadata": {
    "colab": {
     "base_uri": "https://localhost:8080/",
     "height": 1000
    },
    "colab_type": "code",
    "id": "nHZ-LKv_ZRb3",
    "outputId": "718cc4b0-b5aa-40f0-9b20-d3d31730a531",
    "scrolled": true
   },
   "outputs": [
    {
     "name": "stdout",
     "output_type": "stream",
     "text": [
      "Epoch 1/100\n",
      "398/398 [==============================] - 1s 3ms/step - loss: 0.6290 - accuracy: 0.6540\n",
      "Epoch 2/100\n",
      "398/398 [==============================] - 1s 3ms/step - loss: 0.5633 - accuracy: 0.7035\n",
      "Epoch 3/100\n",
      "398/398 [==============================] - 1s 3ms/step - loss: 0.5352 - accuracy: 0.7197\n",
      "Epoch 4/100\n",
      "398/398 [==============================] - 1s 3ms/step - loss: 0.5135 - accuracy: 0.7382\n",
      "Epoch 5/100\n",
      "398/398 [==============================] - 1s 4ms/step - loss: 0.4988 - accuracy: 0.7492\n",
      "Epoch 6/100\n",
      "398/398 [==============================] - 2s 4ms/step - loss: 0.4907 - accuracy: 0.7520\n",
      "Epoch 7/100\n",
      "398/398 [==============================] - 2s 4ms/step - loss: 0.4866 - accuracy: 0.7537\n",
      "Epoch 8/100\n",
      "398/398 [==============================] - 1s 2ms/step - loss: 0.4842 - accuracy: 0.7551\n",
      "Epoch 9/100\n",
      "398/398 [==============================] - 1s 3ms/step - loss: 0.4825 - accuracy: 0.7566\n",
      "Epoch 10/100\n",
      "398/398 [==============================] - 1s 2ms/step - loss: 0.4813 - accuracy: 0.7568\n",
      "Epoch 11/100\n",
      "398/398 [==============================] - 1s 2ms/step - loss: 0.4800 - accuracy: 0.7580\n",
      "Epoch 12/100\n",
      "398/398 [==============================] - 1s 3ms/step - loss: 0.4787 - accuracy: 0.7582\n",
      "Epoch 13/100\n",
      "398/398 [==============================] - 1s 3ms/step - loss: 0.4775 - accuracy: 0.7609\n",
      "Epoch 14/100\n",
      "398/398 [==============================] - 1s 2ms/step - loss: 0.4771 - accuracy: 0.7599\n",
      "Epoch 15/100\n",
      "398/398 [==============================] - 1s 3ms/step - loss: 0.4762 - accuracy: 0.7597\n",
      "Epoch 16/100\n",
      "398/398 [==============================] - 1s 3ms/step - loss: 0.4754 - accuracy: 0.7599\n",
      "Epoch 17/100\n",
      "398/398 [==============================] - 1s 2ms/step - loss: 0.4748 - accuracy: 0.7612\n",
      "Epoch 18/100\n",
      "398/398 [==============================] - 1s 2ms/step - loss: 0.4744 - accuracy: 0.7605\n",
      "Epoch 19/100\n",
      "398/398 [==============================] - 1s 3ms/step - loss: 0.4736 - accuracy: 0.7604\n",
      "Epoch 20/100\n",
      "398/398 [==============================] - 1s 3ms/step - loss: 0.4730 - accuracy: 0.7616\n",
      "Epoch 21/100\n",
      "398/398 [==============================] - 1s 3ms/step - loss: 0.4724 - accuracy: 0.7608\n",
      "Epoch 22/100\n",
      "398/398 [==============================] - 1s 3ms/step - loss: 0.4722 - accuracy: 0.7624\n",
      "Epoch 23/100\n",
      "398/398 [==============================] - 1s 3ms/step - loss: 0.4717 - accuracy: 0.7624\n",
      "Epoch 24/100\n",
      "398/398 [==============================] - 1s 3ms/step - loss: 0.4708 - accuracy: 0.7637\n",
      "Epoch 25/100\n",
      "398/398 [==============================] - 2s 4ms/step - loss: 0.4705 - accuracy: 0.7605\n",
      "Epoch 26/100\n",
      "398/398 [==============================] - 1s 3ms/step - loss: 0.4701 - accuracy: 0.7655\n",
      "Epoch 27/100\n",
      "398/398 [==============================] - 1s 3ms/step - loss: 0.4694 - accuracy: 0.7646\n",
      "Epoch 28/100\n",
      "398/398 [==============================] - 1s 4ms/step - loss: 0.4689 - accuracy: 0.7664\n",
      "Epoch 29/100\n",
      "398/398 [==============================] - 1s 3ms/step - loss: 0.4689 - accuracy: 0.7659\n",
      "Epoch 30/100\n",
      "398/398 [==============================] - 1s 3ms/step - loss: 0.4683 - accuracy: 0.7667\n",
      "Epoch 31/100\n",
      "398/398 [==============================] - 1s 3ms/step - loss: 0.4677 - accuracy: 0.7648\n",
      "Epoch 32/100\n",
      "398/398 [==============================] - 1s 3ms/step - loss: 0.4674 - accuracy: 0.7659\n",
      "Epoch 33/100\n",
      "398/398 [==============================] - 1s 3ms/step - loss: 0.4667 - accuracy: 0.7666\n",
      "Epoch 34/100\n",
      "398/398 [==============================] - 1s 3ms/step - loss: 0.4668 - accuracy: 0.7680\n",
      "Epoch 35/100\n",
      "398/398 [==============================] - 1s 3ms/step - loss: 0.4660 - accuracy: 0.7684\n",
      "Epoch 36/100\n",
      "398/398 [==============================] - 1s 3ms/step - loss: 0.4661 - accuracy: 0.7673\n",
      "Epoch 37/100\n",
      "398/398 [==============================] - 1s 3ms/step - loss: 0.4661 - accuracy: 0.7666\n",
      "Epoch 38/100\n",
      "398/398 [==============================] - 2s 4ms/step - loss: 0.4653 - accuracy: 0.7688\n",
      "Epoch 39/100\n",
      "398/398 [==============================] - 1s 3ms/step - loss: 0.4650 - accuracy: 0.7686\n",
      "Epoch 40/100\n",
      "398/398 [==============================] - 1s 3ms/step - loss: 0.4647 - accuracy: 0.7703\n",
      "Epoch 41/100\n",
      "398/398 [==============================] - 1s 4ms/step - loss: 0.4643 - accuracy: 0.7707\n",
      "Epoch 42/100\n",
      "398/398 [==============================] - 1s 2ms/step - loss: 0.4640 - accuracy: 0.7699\n",
      "Epoch 43/100\n",
      "398/398 [==============================] - 1s 3ms/step - loss: 0.4637 - accuracy: 0.7710\n",
      "Epoch 44/100\n",
      "398/398 [==============================] - 1s 3ms/step - loss: 0.4634 - accuracy: 0.7703\n",
      "Epoch 45/100\n",
      "398/398 [==============================] - 1s 2ms/step - loss: 0.4630 - accuracy: 0.7726\n",
      "Epoch 46/100\n",
      "398/398 [==============================] - 1s 2ms/step - loss: 0.4626 - accuracy: 0.7709\n",
      "Epoch 47/100\n",
      "398/398 [==============================] - 1s 4ms/step - loss: 0.4621 - accuracy: 0.7723\n",
      "Epoch 48/100\n",
      "398/398 [==============================] - 2s 4ms/step - loss: 0.4620 - accuracy: 0.7726\n",
      "Epoch 49/100\n",
      "398/398 [==============================] - 1s 3ms/step - loss: 0.4615 - accuracy: 0.7721\n",
      "Epoch 50/100\n",
      "398/398 [==============================] - 2s 4ms/step - loss: 0.4615 - accuracy: 0.7748\n",
      "Epoch 51/100\n",
      "398/398 [==============================] - 1s 3ms/step - loss: 0.4607 - accuracy: 0.7736\n",
      "Epoch 52/100\n",
      "398/398 [==============================] - 2s 5ms/step - loss: 0.4612 - accuracy: 0.7726\n",
      "Epoch 53/100\n",
      "398/398 [==============================] - 2s 4ms/step - loss: 0.4605 - accuracy: 0.7747\n",
      "Epoch 54/100\n",
      "398/398 [==============================] - 1s 3ms/step - loss: 0.4602 - accuracy: 0.7743\n",
      "Epoch 55/100\n",
      "398/398 [==============================] - 2s 4ms/step - loss: 0.4600 - accuracy: 0.7744: 0s - loss: 0.4615 \n",
      "Epoch 56/100\n",
      "398/398 [==============================] - 2s 4ms/step - loss: 0.4599 - accuracy: 0.7739\n",
      "Epoch 57/100\n",
      "398/398 [==============================] - 2s 4ms/step - loss: 0.4597 - accuracy: 0.7739\n",
      "Epoch 58/100\n",
      "398/398 [==============================] - 1s 3ms/step - loss: 0.4591 - accuracy: 0.7735\n",
      "Epoch 59/100\n",
      "398/398 [==============================] - 2s 4ms/step - loss: 0.4595 - accuracy: 0.7746\n",
      "Epoch 60/100\n",
      "398/398 [==============================] - 1s 3ms/step - loss: 0.4593 - accuracy: 0.7747\n",
      "Epoch 61/100\n",
      "398/398 [==============================] - 1s 3ms/step - loss: 0.4590 - accuracy: 0.7752\n",
      "Epoch 62/100\n",
      "398/398 [==============================] - 1s 3ms/step - loss: 0.4590 - accuracy: 0.7733\n",
      "Epoch 63/100\n",
      "398/398 [==============================] - 2s 5ms/step - loss: 0.4587 - accuracy: 0.7756\n",
      "Epoch 64/100\n",
      "398/398 [==============================] - 1s 3ms/step - loss: 0.4587 - accuracy: 0.7739\n",
      "Epoch 65/100\n",
      "398/398 [==============================] - 2s 5ms/step - loss: 0.4583 - accuracy: 0.7742\n",
      "Epoch 66/100\n",
      "398/398 [==============================] - 1s 4ms/step - loss: 0.4583 - accuracy: 0.7766\n",
      "Epoch 67/100\n",
      "398/398 [==============================] - 3s 7ms/step - loss: 0.4580 - accuracy: 0.7756\n",
      "Epoch 68/100\n",
      "398/398 [==============================] - 2s 5ms/step - loss: 0.4582 - accuracy: 0.7758\n",
      "Epoch 69/100\n",
      "398/398 [==============================] - 1s 3ms/step - loss: 0.4581 - accuracy: 0.7776\n",
      "Epoch 70/100\n",
      "398/398 [==============================] - 1s 3ms/step - loss: 0.4577 - accuracy: 0.7747\n",
      "Epoch 71/100\n",
      "398/398 [==============================] - 1s 4ms/step - loss: 0.4579 - accuracy: 0.7758\n",
      "Epoch 72/100\n",
      "398/398 [==============================] - 2s 4ms/step - loss: 0.4576 - accuracy: 0.7753\n",
      "Epoch 73/100\n",
      "398/398 [==============================] - 1s 3ms/step - loss: 0.4574 - accuracy: 0.7754\n",
      "Epoch 74/100\n",
      "398/398 [==============================] - 1s 3ms/step - loss: 0.4575 - accuracy: 0.7760\n",
      "Epoch 75/100\n",
      "398/398 [==============================] - 2s 5ms/step - loss: 0.4575 - accuracy: 0.7771\n",
      "Epoch 76/100\n",
      "398/398 [==============================] - 2s 4ms/step - loss: 0.4572 - accuracy: 0.7757\n",
      "Epoch 77/100\n",
      "398/398 [==============================] - 2s 6ms/step - loss: 0.4572 - accuracy: 0.7759\n",
      "Epoch 78/100\n",
      "398/398 [==============================] - 1s 4ms/step - loss: 0.4568 - accuracy: 0.7761\n",
      "Epoch 79/100\n",
      "398/398 [==============================] - 2s 6ms/step - loss: 0.4567 - accuracy: 0.7770\n",
      "Epoch 80/100\n",
      "398/398 [==============================] - 3s 7ms/step - loss: 0.4567 - accuracy: 0.7782\n",
      "Epoch 81/100\n",
      "398/398 [==============================] - 3s 7ms/step - loss: 0.4569 - accuracy: 0.7757\n",
      "Epoch 82/100\n",
      "398/398 [==============================] - 2s 6ms/step - loss: 0.4569 - accuracy: 0.7761\n",
      "Epoch 83/100\n",
      "398/398 [==============================] - 2s 4ms/step - loss: 0.4568 - accuracy: 0.7783\n",
      "Epoch 84/100\n",
      "398/398 [==============================] - 2s 4ms/step - loss: 0.4570 - accuracy: 0.7757\n",
      "Epoch 85/100\n",
      "398/398 [==============================] - 3s 7ms/step - loss: 0.4565 - accuracy: 0.7742\n",
      "Epoch 86/100\n",
      "398/398 [==============================] - 2s 5ms/step - loss: 0.4567 - accuracy: 0.7762\n",
      "Epoch 87/100\n",
      "398/398 [==============================] - 3s 7ms/step - loss: 0.4569 - accuracy: 0.7761\n",
      "Epoch 88/100\n",
      "398/398 [==============================] - 2s 6ms/step - loss: 0.4561 - accuracy: 0.7772\n",
      "Epoch 89/100\n",
      "398/398 [==============================] - 2s 4ms/step - loss: 0.4566 - accuracy: 0.7748\n",
      "Epoch 90/100\n",
      "398/398 [==============================] - 1s 4ms/step - loss: 0.4563 - accuracy: 0.7761\n",
      "Epoch 91/100\n",
      "398/398 [==============================] - 2s 4ms/step - loss: 0.4564 - accuracy: 0.7745\n",
      "Epoch 92/100\n",
      "398/398 [==============================] - 2s 5ms/step - loss: 0.4560 - accuracy: 0.7766\n",
      "Epoch 93/100\n",
      "398/398 [==============================] - 2s 6ms/step - loss: 0.4561 - accuracy: 0.7766\n",
      "Epoch 94/100\n",
      "398/398 [==============================] - 2s 5ms/step - loss: 0.4557 - accuracy: 0.7774\n",
      "Epoch 95/100\n",
      "398/398 [==============================] - 2s 6ms/step - loss: 0.4561 - accuracy: 0.7763\n",
      "Epoch 96/100\n",
      "398/398 [==============================] - 2s 4ms/step - loss: 0.4561 - accuracy: 0.7769\n",
      "Epoch 97/100\n",
      "398/398 [==============================] - 1s 2ms/step - loss: 0.4557 - accuracy: 0.7766\n",
      "Epoch 98/100\n",
      "398/398 [==============================] - 1s 4ms/step - loss: 0.4560 - accuracy: 0.7759\n",
      "Epoch 99/100\n",
      "398/398 [==============================] - 2s 4ms/step - loss: 0.4561 - accuracy: 0.7750\n",
      "Epoch 100/100\n",
      "398/398 [==============================] - 2s 4ms/step - loss: 0.4559 - accuracy: 0.7772\n"
     ]
    },
    {
     "data": {
      "text/plain": [
       "<tensorflow.python.keras.callbacks.History at 0x7f07c87795e0>"
      ]
     },
     "execution_count": 90,
     "metadata": {},
     "output_type": "execute_result"
    }
   ],
   "source": [
    "ann.fit(X_train, y_train, batch_size = 32, epochs = 100)"
   ]
  },
  {
   "cell_type": "markdown",
   "metadata": {
    "colab_type": "text",
    "id": "tJj5k2MxZga3"
   },
   "source": [
    "## Part 4 - Making the predictions and evaluating the model"
   ]
  },
  {
   "cell_type": "markdown",
   "metadata": {
    "colab_type": "text",
    "id": "84QFoqGYeXHL"
   },
   "source": [
    "### Predicting the result of a single observation"
   ]
  },
  {
   "cell_type": "markdown",
   "metadata": {
    "colab_type": "text",
    "id": "CGRo3eacgDdC"
   },
   "source": [
    "Use our ANN model to predict if the customer with the following informations will leave the bank: \n",
    "\n",
    "Credit Score: 600\n",
    "\n",
    "Gender: Male\n",
    "\n",
    "Age: 40 years old\n",
    "\n",
    "Tenure: 3 years\n",
    "\n",
    "Balance: \\$ 60000\n",
    "\n",
    "Number of Products: 2\n",
    "\n",
    "Does this customer have a credit card ? Yes\n",
    "\n",
    "Estimated Salary: \\$ 50000"
   ]
  },
  {
   "cell_type": "markdown",
   "metadata": {
    "colab_type": "text",
    "id": "ZhU1LTgPg-kH"
   },
   "source": [
    "**Solution**"
   ]
  },
  {
   "cell_type": "code",
   "execution_count": 91,
   "metadata": {
    "colab": {
     "base_uri": "https://localhost:8080/",
     "height": 34
    },
    "colab_type": "code",
    "id": "2d8IoCCkeWGL",
    "outputId": "957f3970-e197-4c3b-a150-7f69dc567f5d",
    "scrolled": true
   },
   "outputs": [
    {
     "name": "stdout",
     "output_type": "stream",
     "text": [
      "[[ True]]\n"
     ]
    }
   ],
   "source": [
    "print(ann.predict(sc.transform([[ 600, 1, 40, 3, 60000, 2, 1, 1, 50000]])) > 0.5)"
   ]
  },
  {
   "cell_type": "markdown",
   "metadata": {
    "colab_type": "text",
    "id": "u7yx47jPZt11"
   },
   "source": [
    "### Predicting the Test set results"
   ]
  },
  {
   "cell_type": "code",
   "execution_count": 94,
   "metadata": {
    "colab": {
     "base_uri": "https://localhost:8080/",
     "height": 137
    },
    "colab_type": "code",
    "id": "nIyEeQdRZwgs",
    "outputId": "82330ba8-9bdc-4fd1-d3cf-b6d78ee7c2a3"
   },
   "outputs": [],
   "source": [
    "y_pred = ann.predict(X_test)\n",
    "y_pred = (y_pred > 0.5)"
   ]
  },
  {
   "cell_type": "markdown",
   "metadata": {
    "colab_type": "text",
    "id": "o0oyfLWoaEGw"
   },
   "source": [
    "### Making the Confusion Matrix and Calculating the Precision and Recall"
   ]
  },
  {
   "cell_type": "code",
   "execution_count": 95,
   "metadata": {
    "colab": {
     "base_uri": "https://localhost:8080/",
     "height": 68
    },
    "colab_type": "code",
    "id": "ci6K_r6LaF6P",
    "outputId": "4d854e9e-22d5-432f-f6e5-a102fe3ae0bd"
   },
   "outputs": [
    {
     "name": "stdout",
     "output_type": "stream",
     "text": [
      "[[1275  320]\n",
      " [ 108  297]]\n",
      "(array([0.92190889, 0.48136143]), array([0.79937304, 0.73333333]), array([0.85627938, 0.58121331]), array([1595,  405]))\n"
     ]
    }
   ],
   "source": [
    "from sklearn.metrics import confusion_matrix, precision_recall_fscore_support\n",
    "cm = confusion_matrix(y_test, y_pred)\n",
    "print(cm)\n",
    "print(precision_recall_fscore_support(y_test, y_pred))"
   ]
  }
 ],
 "metadata": {
  "colab": {
   "collapsed_sections": [],
   "name": "artificial_neural_network.ipynb",
   "provenance": [],
   "toc_visible": true
  },
  "kernelspec": {
   "display_name": "Python 3",
   "language": "python",
   "name": "python3"
  },
  "language_info": {
   "codemirror_mode": {
    "name": "ipython",
    "version": 3
   },
   "file_extension": ".py",
   "mimetype": "text/x-python",
   "name": "python",
   "nbconvert_exporter": "python",
   "pygments_lexer": "ipython3",
   "version": "3.8.3"
  }
 },
 "nbformat": 4,
 "nbformat_minor": 1
}
